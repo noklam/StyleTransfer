{
 "cells": [
  {
   "cell_type": "code",
   "execution_count": 18,
   "metadata": {
    "ExecuteTime": {
     "end_time": "2018-11-30T09:55:01.170543Z",
     "start_time": "2018-11-30T09:55:01.164029Z"
    }
   },
   "outputs": [],
   "source": [
    "# import resources\n",
    "%matplotlib inline\n",
    "\n",
    "from PIL import Image\n",
    "import matplotlib.pyplot as plt\n",
    "import numpy as np\n",
    "\n",
    "import torch\n",
    "import torch.optim as optim\n",
    "from torchvision import transforms, models\n",
    "# from tqdm import tqdm\n",
    "from pathlib import Path\n",
    "import imageio\n",
    "import glob\n",
    "from itertools import product\n",
    "from tqdm import tqdm_notebook as tqdm"
   ]
  },
  {
   "cell_type": "code",
   "execution_count": 19,
   "metadata": {
    "ExecuteTime": {
     "end_time": "2018-11-30T09:55:01.397388Z",
     "start_time": "2018-11-30T09:55:01.394380Z"
    }
   },
   "outputs": [],
   "source": [
    "torch.cuda.set_device(0)"
   ]
  },
  {
   "cell_type": "code",
   "execution_count": 20,
   "metadata": {
    "ExecuteTime": {
     "end_time": "2018-11-30T09:55:01.762103Z",
     "start_time": "2018-11-30T09:55:01.758092Z"
    }
   },
   "outputs": [
    {
     "data": {
      "text/plain": [
       "'0.4.1'"
      ]
     },
     "execution_count": 20,
     "metadata": {},
     "output_type": "execute_result"
    }
   ],
   "source": [
    "torch.__version__"
   ]
  },
  {
   "cell_type": "markdown",
   "metadata": {},
   "source": [
    "## Load in VGG19 (features)\n",
    "\n",
    "VGG19 is split into two portions:\n",
    "* `vgg19.features`, which are all the convolutional and pooling layers\n",
    "* `vgg19.classifier`, which are the three linear, classifier layers at the end\n",
    "\n",
    "We only need the `features` portion, which we're going to load in and \"freeze\" the weights of, below."
   ]
  },
  {
   "cell_type": "code",
   "execution_count": 21,
   "metadata": {
    "ExecuteTime": {
     "end_time": "2018-11-30T09:55:03.447130Z",
     "start_time": "2018-11-30T09:55:02.226274Z"
    }
   },
   "outputs": [],
   "source": [
    "# get the \"features\" portion of VGG19 (we will not need the \"classifier\" portion)\n",
    "vgg = models.vgg19(pretrained=True).features\n",
    "\n",
    "# freeze all VGG parameters since we're only optimizing the target image\n",
    "for param in vgg.parameters():\n",
    "    param.requires_grad_(False)"
   ]
  },
  {
   "cell_type": "code",
   "execution_count": 22,
   "metadata": {
    "ExecuteTime": {
     "end_time": "2018-11-30T09:55:03.504289Z",
     "start_time": "2018-11-30T09:55:03.449100Z"
    }
   },
   "outputs": [
    {
     "name": "stdout",
     "output_type": "stream",
     "text": [
      "Using GPU\n"
     ]
    }
   ],
   "source": [
    "# move the model to GPU, if available\n",
    "device = torch.device(\"cuda\" if torch.cuda.is_available() else \"cpu\")\n",
    "vgg.to(device)\n",
    "print('Using', \"GPU\" if torch.cuda.is_available() else \"CPU\" )"
   ]
  },
  {
   "cell_type": "markdown",
   "metadata": {},
   "source": [
    "### Load in Content and Style Images\n",
    "\n",
    "You can load in any images you want! Below, we've provided a helper function for loading in any type and size of image. The `load_image` function also converts images to normalized Tensors.\n",
    "\n",
    "Additionally, it will be easier to have smaller images and to squish the content and style images so that they are of the same size."
   ]
  },
  {
   "cell_type": "code",
   "execution_count": 23,
   "metadata": {
    "ExecuteTime": {
     "end_time": "2018-11-30T09:55:03.510266Z",
     "start_time": "2018-11-30T09:55:03.506254Z"
    }
   },
   "outputs": [],
   "source": [
    "def load_image(img_path, max_size=200, shape=None):\n",
    "    ''' Load in and transform an image, making sure the image\n",
    "       is <= 400 pixels in the x-y dims.'''\n",
    "    \n",
    "    image = Image.open(img_path).convert('RGB')\n",
    "    \n",
    "    # large images will slow down processing\n",
    "    if max(image.size) > max_size:\n",
    "        size = max_size\n",
    "    else:\n",
    "        size = max(image.size)\n",
    "    \n",
    "    if shape is not None:\n",
    "        size = shape\n",
    "        \n",
    "    in_transform = transforms.Compose([\n",
    "                        transforms.Resize(size),\n",
    "                        transforms.ToTensor(),\n",
    "                        transforms.Normalize((0.485, 0.456, 0.406), \n",
    "                                             (0.229, 0.224, 0.225))])\n",
    "\n",
    "    # discard the transparent, alpha channel (that's the :3) and add the batch dimension\n",
    "    image = in_transform(image)[:3,:,:].unsqueeze(0)\n",
    "    \n",
    "    return image"
   ]
  },
  {
   "cell_type": "markdown",
   "metadata": {},
   "source": [
    "Next, I'm loading in images by file name and forcing the style image to be the same size as the content image."
   ]
  },
  {
   "cell_type": "code",
   "execution_count": 12,
   "metadata": {
    "ExecuteTime": {
     "end_time": "2018-11-30T09:50:41.200307Z",
     "start_time": "2018-11-30T09:50:41.189275Z"
    }
   },
   "outputs": [],
   "source": [
    "CONTENT = Path('content')\n",
    "STYLE = Path('style')\n",
    "\n",
    "content_image = 'magic.jpg'\n",
    "style_image = 'fire.jpg'\n",
    "\n",
    "content_fn = content_image.split('.')[0]\n",
    "style_fn = style_image.split('.')[0]"
   ]
  },
  {
   "cell_type": "code",
   "execution_count": 13,
   "metadata": {
    "ExecuteTime": {
     "end_time": "2018-11-30T09:50:41.305630Z",
     "start_time": "2018-11-30T09:50:41.203778Z"
    }
   },
   "outputs": [],
   "source": [
    "# load in content and style image\n",
    "content = load_image(CONTENT/content_image).to(device)\n",
    "# Resize style to match content, makes code easier\n",
    "style = load_image(STYLE/style_image, shape=content.shape[-2:]).to(device)"
   ]
  },
  {
   "cell_type": "code",
   "execution_count": 14,
   "metadata": {
    "ExecuteTime": {
     "end_time": "2018-11-30T09:50:41.314161Z",
     "start_time": "2018-11-30T09:50:41.307635Z"
    }
   },
   "outputs": [],
   "source": [
    "# helper function for un-normalizing an image \n",
    "# and converting it from a Tensor image to a NumPy image for display\n",
    "def im_convert(tensor):\n",
    "    \"\"\" Display a tensor as an image. \"\"\"\n",
    "    \n",
    "    image = tensor.to(\"cpu\").clone().detach()\n",
    "    image = image.numpy().squeeze()\n",
    "    image = image.transpose(1,2,0)\n",
    "    image = image * np.array((0.229, 0.224, 0.225)) + np.array((0.485, 0.456, 0.406))\n",
    "    image = image.clip(0, 1)\n",
    "\n",
    "    return image"
   ]
  },
  {
   "cell_type": "code",
   "execution_count": 15,
   "metadata": {
    "ExecuteTime": {
     "end_time": "2018-11-30T09:50:41.376525Z",
     "start_time": "2018-11-30T09:50:41.372544Z"
    }
   },
   "outputs": [],
   "source": [
    "def gram_matrix(tensor):\n",
    "    \"\"\" Calculate the Gram Matrix of a given tensor \n",
    "        Gram Matrix: https://en.wikipedia.org/wiki/Gramian_matrix\n",
    "    \"\"\"\n",
    "    \n",
    "    # get the batch_size, depth, height, and width of the Tensor\n",
    "    _, d, h, w = tensor.size()\n",
    "    \n",
    "    # reshape so we're multiplying the features for each channel\n",
    "    tensor = tensor.view(d, h * w)\n",
    "    \n",
    "    # calculate the gram matrix\n",
    "    gram = torch.mm(tensor, tensor.t())\n",
    "    \n",
    "    return gram "
   ]
  },
  {
   "cell_type": "code",
   "execution_count": 16,
   "metadata": {
    "ExecuteTime": {
     "end_time": "2018-11-30T09:50:56.563726Z",
     "start_time": "2018-11-30T09:50:56.239816Z"
    }
   },
   "outputs": [
    {
     "data": {
      "text/plain": [
       "<matplotlib.image.AxesImage at 0x28602080b70>"
      ]
     },
     "execution_count": 16,
     "metadata": {},
     "output_type": "execute_result"
    },
    {
     "data": {
      "image/png": "[encoded data removed]",
      "text/plain": [
       "<Figure size 1440x720 with 2 Axes>"
      ]
     },
     "metadata": {
      "needs_background": "light"
     },
     "output_type": "display_data"
    }
   ],
   "source": [
    "# display the images\n",
    "fig, (ax1, ax2) = plt.subplots(1, 2, figsize=(20, 10))\n",
    "# content and style ims side-by-side\n",
    "ax1.imshow(im_convert(content))\n",
    "ax2.imshow(im_convert(style))"
   ]
  },
  {
   "cell_type": "markdown",
   "metadata": {},
   "source": [
    "---\n",
    "## VGG19 Layers\n",
    "\n",
    "To get the content and style representations of an image, we have to pass an image forward throug the VGG19 network until we get to the desired layer(s) and then get the output from that layer."
   ]
  },
  {
   "cell_type": "code",
   "execution_count": 17,
   "metadata": {
    "ExecuteTime": {
     "end_time": "2018-11-30T09:50:58.203233Z",
     "start_time": "2018-11-30T09:50:58.198220Z"
    }
   },
   "outputs": [
    {
     "name": "stdout",
     "output_type": "stream",
     "text": [
      "Sequential(\n",
      "  (0): Conv2d(3, 64, kernel_size=(3, 3), stride=(1, 1), padding=(1, 1))\n",
      "  (1): ReLU(inplace)\n",
      "  (2): Conv2d(64, 64, kernel_size=(3, 3), stride=(1, 1), padding=(1, 1))\n",
      "  (3): ReLU(inplace)\n",
      "  (4): MaxPool2d(kernel_size=2, stride=2, padding=0, dilation=1, ceil_mode=False)\n",
      "  (5): Conv2d(64, 128, kernel_size=(3, 3), stride=(1, 1), padding=(1, 1))\n",
      "  (6): ReLU(inplace)\n",
      "  (7): Conv2d(128, 128, kernel_size=(3, 3), stride=(1, 1), padding=(1, 1))\n",
      "  (8): ReLU(inplace)\n",
      "  (9): MaxPool2d(kernel_size=2, stride=2, padding=0, dilation=1, ceil_mode=False)\n",
      "  (10): Conv2d(128, 256, kernel_size=(3, 3), stride=(1, 1), padding=(1, 1))\n",
      "  (11): ReLU(inplace)\n",
      "  (12): Conv2d(256, 256, kernel_size=(3, 3), stride=(1, 1), padding=(1, 1))\n",
      "  (13): ReLU(inplace)\n",
      "  (14): Conv2d(256, 256, kernel_size=(3, 3), stride=(1, 1), padding=(1, 1))\n",
      "  (15): ReLU(inplace)\n",
      "  (16): Conv2d(256, 256, kernel_size=(3, 3), stride=(1, 1), padding=(1, 1))\n",
      "  (17): ReLU(inplace)\n",
      "  (18): MaxPool2d(kernel_size=2, stride=2, padding=0, dilation=1, ceil_mode=False)\n",
      "  (19): Conv2d(256, 512, kernel_size=(3, 3), stride=(1, 1), padding=(1, 1))\n",
      "  (20): ReLU(inplace)\n",
      "  (21): Conv2d(512, 512, kernel_size=(3, 3), stride=(1, 1), padding=(1, 1))\n",
      "  (22): ReLU(inplace)\n",
      "  (23): Conv2d(512, 512, kernel_size=(3, 3), stride=(1, 1), padding=(1, 1))\n",
      "  (24): ReLU(inplace)\n",
      "  (25): Conv2d(512, 512, kernel_size=(3, 3), stride=(1, 1), padding=(1, 1))\n",
      "  (26): ReLU(inplace)\n",
      "  (27): MaxPool2d(kernel_size=2, stride=2, padding=0, dilation=1, ceil_mode=False)\n",
      "  (28): Conv2d(512, 512, kernel_size=(3, 3), stride=(1, 1), padding=(1, 1))\n",
      "  (29): ReLU(inplace)\n",
      "  (30): Conv2d(512, 512, kernel_size=(3, 3), stride=(1, 1), padding=(1, 1))\n",
      "  (31): ReLU(inplace)\n",
      "  (32): Conv2d(512, 512, kernel_size=(3, 3), stride=(1, 1), padding=(1, 1))\n",
      "  (33): ReLU(inplace)\n",
      "  (34): Conv2d(512, 512, kernel_size=(3, 3), stride=(1, 1), padding=(1, 1))\n",
      "  (35): ReLU(inplace)\n",
      "  (36): MaxPool2d(kernel_size=2, stride=2, padding=0, dilation=1, ceil_mode=False)\n",
      ")\n"
     ]
    }
   ],
   "source": [
    "# print out VGG16 structure so you can see the names of various layers\n",
    "print(vgg)"
   ]
  },
  {
   "cell_type": "markdown",
   "metadata": {},
   "source": [
    "## Content and Style Features\n",
    "\n",
    "Below, complete the mapping of layer names to the names found in the paper for the _content representation_ and the _style representation_."
   ]
  },
  {
   "cell_type": "code",
   "execution_count": null,
   "metadata": {
    "ExecuteTime": {
     "end_time": "2018-11-28T11:37:50.312437Z",
     "start_time": "2018-11-28T11:26:55.667Z"
    }
   },
   "outputs": [],
   "source": [
    "def get_features(image, model, layers=None):\n",
    "    \"\"\" Run an image forward through a model and get the features for \n",
    "        a set of layers. Default layers are for VGGNet matching Gatys et al (2016)\n",
    "    \"\"\"\n",
    "    ## Need the layers for the content and style representations of an image\n",
    "    if layers is None:\n",
    "        layers = {'0': 'conv1_1',\n",
    "                  '5': 'conv2_1', \n",
    "                  '10': 'conv3_1', \n",
    "                  '19': 'conv4_1',\n",
    "                  '21': 'conv4_2',  ## content representation\n",
    "                  '28': 'conv5_1'\n",
    "                 }\n",
    "        \n",
    "    features = {}\n",
    "    x = image\n",
    "    # model._modules is a dictionary holding each module in the model\n",
    "    for name, layer in model._modules.items():\n",
    "        x = layer(x)\n",
    "        if name in layers:\n",
    "            features[layers[name]] = x\n",
    "            \n",
    "    return features"
   ]
  },
  {
   "cell_type": "markdown",
   "metadata": {},
   "source": [
    "## Putting it all Together\n",
    "\n",
    "Now that we've written functions for extracting features and computing the gram matrix of a given convolutional layer; let's put all these pieces together! We'll extract our features from our images and calculate the gram matrices for each layer in our style representation."
   ]
  },
  {
   "cell_type": "code",
   "execution_count": null,
   "metadata": {
    "ExecuteTime": {
     "end_time": "2018-11-28T11:37:50.312994Z",
     "start_time": "2018-11-28T11:26:55.668Z"
    }
   },
   "outputs": [],
   "source": [
    "# get content and style features only once before training\n",
    "content_features = get_features(content, vgg)\n",
    "style_features = get_features(style, vgg)\n",
    "\n",
    "# calculate the gram matrices for each layer of our style representation\n",
    "style_grams = {layer: gram_matrix(style_features[layer]) for layer in style_features}\n",
    "\n",
    "# Start with copy of content image\n",
    "target = content.clone().requires_grad_(True).to(device)"
   ]
  },
  {
   "cell_type": "code",
   "execution_count": null,
   "metadata": {
    "ExecuteTime": {
     "end_time": "2018-11-28T11:37:50.313558Z",
     "start_time": "2018-11-28T11:26:55.673Z"
    }
   },
   "outputs": [],
   "source": [
    "plt.imshow(target[0,:,:,:].detach().cpu().permute((1,2,0)))"
   ]
  },
  {
   "cell_type": "code",
   "execution_count": null,
   "metadata": {
    "ExecuteTime": {
     "end_time": "2018-11-28T11:37:50.314208Z",
     "start_time": "2018-11-28T11:26:55.674Z"
    }
   },
   "outputs": [],
   "source": [
    "# weights for each style layer\n",
    "# weighting earlier layers more will result in *larger* style artifacts\n",
    "# notice we are excluding `conv4_2` our content representation\n",
    "\n",
    "style_weights_dict = {\n",
    "\n",
    "    'High': {'conv1_1': 1,\n",
    "             'conv2_1': 1,\n",
    "             'conv3_1': 0.1,\n",
    "             'conv4_1': 0.05,\n",
    "             'conv5_1': 0.05},\n",
    "    \n",
    "    'Normal': {'conv1_1': 1.,\n",
    "               'conv2_1': 0.75,\n",
    "               'conv3_1': 0.2,\n",
    "               'conv4_1': 0.2,\n",
    "               'conv5_1': 0.2},\n",
    "\n",
    "    'Low': {'conv1_1': 0.05,\n",
    "            'conv2_1': 0.5,\n",
    "            'conv3_1': 0.1,\n",
    "            'conv4_1': 1,\n",
    "            'conv5_1': 1},\n",
    "    \n",
    "        'Classic': {'conv1_1': 0.2,\n",
    "            'conv2_1': 0.2,\n",
    "            'conv3_1': 0.2,\n",
    "            'conv4_1': 0.2,\n",
    "            'conv5_1': 0.2}\n",
    "}\n",
    "\n",
    "\n",
    "\n",
    "# content_style_ratio = 1e-6  # alpha/beta ratio\n"
   ]
  },
  {
   "cell_type": "markdown",
   "metadata": {},
   "source": [
    "# Visualize style of different style weight"
   ]
  },
  {
   "cell_type": "code",
   "execution_count": null,
   "metadata": {
    "ExecuteTime": {
     "end_time": "2018-11-28T11:37:50.314947Z",
     "start_time": "2018-11-28T11:26:55.681Z"
    }
   },
   "outputs": [],
   "source": [
    "content_features['conv1_1'][:,0,:,:].size()"
   ]
  },
  {
   "cell_type": "markdown",
   "metadata": {
    "ExecuteTime": {
     "end_time": "2018-11-27T09:19:00.976983Z",
     "start_time": "2018-11-27T09:19:00.969013Z"
    }
   },
   "source": [
    "# New Part"
   ]
  },
  {
   "cell_type": "code",
   "execution_count": null,
   "metadata": {
    "ExecuteTime": {
     "end_time": "2018-11-28T11:37:50.315520Z",
     "start_time": "2018-11-28T11:26:55.684Z"
    }
   },
   "outputs": [],
   "source": [
    "style_levels =  ['Classic','Normal','High','Low']\n",
    "content_style_ratios = [0.000001, 0.0001, 0.01]\n",
    "\n",
    "list(product(style_levels,content_style_ratios))\n"
   ]
  },
  {
   "cell_type": "code",
   "execution_count": null,
   "metadata": {
    "ExecuteTime": {
     "end_time": "2018-11-28T11:37:50.316205Z",
     "start_time": "2018-11-28T11:26:55.698Z"
    }
   },
   "outputs": [],
   "source": [
    "for style_level, content_style_ratio in tqdm(list(product(style_levels,content_style_ratios))):\n",
    "    # Start from a fresh photo\n",
    "    target = content.clone().requires_grad_(True).to(device)\n",
    "    # for displaying the target image, intermittently\n",
    "    show_every = 1\n",
    "    style_weights = style_weights_dict[style_level]\n",
    "    # iteration hyperparameters\n",
    "    optimizer = optim.LBFGS([target], lr=0.2)\n",
    "    steps = 20  # decide how many iterations to update your image (5000)\n",
    "    run = [0]\n",
    "\n",
    "    OUTPUT = Path('output')/f\"{content_fn}_{style_fn}\"\n",
    "    OUTPUT.mkdir(exist_ok=True)\n",
    "    OUTPUT_SUBPATH = OUTPUT/f\"{style_level}_{content_style_ratio}\"\n",
    "    OUTPUT_SUBPATH.mkdir(exist_ok=True)\n",
    "\n",
    "    for ii in tqdm(range(1, steps+1)):\n",
    "\n",
    "        def closure():\n",
    "            # get the features from your target image\n",
    "            target_features = get_features(target, vgg)\n",
    "\n",
    "            # the content loss\n",
    "            content_loss = torch.mean((target_features['conv4_2'] - content_features['conv4_2'])**2)\n",
    "\n",
    "            # initialize the style loss to 0\n",
    "            style_loss = 0\n",
    "            # then add to it for each layer's gram matrix loss\n",
    "            for layer in style_weights:\n",
    "                # get the \"target\" style representation for the layer\n",
    "                target_feature = target_features[layer]\n",
    "                target_gram = gram_matrix(target_feature)\n",
    "                _, d, h, w = target_feature.shape\n",
    "                # get the \"style\" style representation\n",
    "                style_gram = style_grams[layer]\n",
    "                # the style loss for one layer, weighted appropriately\n",
    "                layer_style_loss = style_weights[layer] * torch.mean((target_gram - style_gram)**2)\n",
    "                # add to the style loss\n",
    "                style_loss += layer_style_loss / (d * h * w)\n",
    "\n",
    "            # calculate the *total* loss\n",
    "            total_loss =  (content_loss * content_style_ratio +  style_loss) * 1e6\n",
    "\n",
    "            # update your target image\n",
    "            optimizer.zero_grad()\n",
    "            total_loss.backward()\n",
    "\n",
    "            run[0] += 1\n",
    "#             if run[0] % 20 == 0:\n",
    "#                 print(\"run {}:\".format(run))\n",
    "#                 print('Total Loss: {:4f}'.format(total_loss))\n",
    "#                 print()\n",
    "#                 print(f'Step {ii} -------')\n",
    "            return total_loss\n",
    "        \n",
    "        # Save the first image\n",
    "        plt.imsave(OUTPUT_SUBPATH/f\"{ii}.jpg\",im_convert(target))\n",
    "        optimizer.step(closure)\n",
    "              \n",
    "    # Finish 1 set of parameter                  \n",
    "    images = []\n",
    "    for filename in OUTPUT_SUBPATH.glob('*.jpg'):\n",
    "         images.append(imageio.imread(filename))\n",
    "    \n",
    "    imageio.mimsave(OUTPUT/f\"{content_fn}_{style_fn}_{style_level}_{content_style_ratio}.gif\", images, fps=2) # Output gif\n",
    "    plt.imsave(OUTPUT/f\"{content_fn}_{style_fn}_{style_level}_{content_style_ratio}.jpg\",im_convert(target)) # Output the last image as well\n",
    "    plt.imshow(im_convert(target))\n",
    "    plt.show()\n"
   ]
  },
  {
   "cell_type": "markdown",
   "metadata": {},
   "source": [
    "## Display the Target Image"
   ]
  },
  {
   "cell_type": "code",
   "execution_count": null,
   "metadata": {
    "ExecuteTime": {
     "end_time": "2018-11-28T11:37:50.316770Z",
     "start_time": "2018-11-28T11:26:55.701Z"
    }
   },
   "outputs": [],
   "source": [
    "h,w = len(content_style_ratios), len(style_levels)\n",
    "fig, axs = plt.subplots(h, w, figsize = (16,12), sharex=True, sharey=True)\n",
    "plt.tight_layout()\n",
    "\n",
    "imgs = []\n",
    "styles = []\n",
    "ratios = []\n",
    "for file in OUTPUT.glob('*.jpg'):\n",
    "    img = plt.imread(file)\n",
    "    imgs.append(img)\n",
    "    styles.append(file.parts[-1].split('_')[-2])\n",
    "    ratios.append(file.parts[-1].split('_')[-1].split('.jpg')[0])\n",
    "\n",
    "for i,ax in enumerate(axs):  \n",
    "    for j, axe  in enumerate(ax):\n",
    "        if i==0:\n",
    "            axe.set_title(ratios[j*len(content_style_ratios) + i])\n",
    "        if j==0:\n",
    "            axe.set_ylabel(styles[j*len(content_style_ratios) + i])\n",
    "        axe.imshow(imgs[j*len(content_style_ratios) + i])\n",
    "    \n",
    "plt.show()"
   ]
  },
  {
   "cell_type": "code",
   "execution_count": null,
   "metadata": {
    "ExecuteTime": {
     "end_time": "2018-11-28T11:37:50.317333Z",
     "start_time": "2018-11-28T11:26:55.702Z"
    }
   },
   "outputs": [],
   "source": [
    "gram_matrix(target_features)"
   ]
  },
  {
   "cell_type": "code",
   "execution_count": null,
   "metadata": {
    "ExecuteTime": {
     "end_time": "2018-11-28T11:37:50.317920Z",
     "start_time": "2018-11-28T11:26:55.704Z"
    }
   },
   "outputs": [],
   "source": [
    "# display content and final, target image\n",
    "fig, (ax1, ax2) = plt.subplots(1, 2, figsize=(20, 10))\n",
    "ax1.imshow(im_convert(content))\n",
    "ax2.imshow(im_convert(target))"
   ]
  },
  {
   "cell_type": "code",
   "execution_count": null,
   "metadata": {
    "ExecuteTime": {
     "end_time": "2018-11-28T11:37:50.318478Z",
     "start_time": "2018-11-28T11:26:55.705Z"
    }
   },
   "outputs": [],
   "source": [
    "fig.savefig(f\"{content_fn}_{style_fn}.jpg\")"
   ]
  },
  {
   "cell_type": "code",
   "execution_count": null,
   "metadata": {},
   "outputs": [],
   "source": []
  }
 ],
 "metadata": {
  "hide_input": false,
  "kernelspec": {
   "display_name": "Python 3",
   "language": "python",
   "name": "python3"
  },
  "language_info": {
   "codemirror_mode": {
    "name": "ipython",
    "version": 3
   },
   "file_extension": ".py",
   "mimetype": "text/x-python",
   "name": "python",
   "nbconvert_exporter": "python",
   "pygments_lexer": "ipython3",
   "version": "3.6.6"
  },
  "toc": {
   "base_numbering": 1,
   "nav_menu": {},
   "number_sections": true,
   "sideBar": true,
   "skip_h1_title": false,
   "title_cell": "Table of Contents",
   "title_sidebar": "Contents",
   "toc_cell": false,
   "toc_position": {
    "height": "calc(100% - 180px)",
    "left": "10px",
    "top": "150px",
    "width": "384px"
   },
   "toc_section_display": true,
   "toc_window_display": true
  }
 },
 "nbformat": 4,
 "nbformat_minor": 2
}
